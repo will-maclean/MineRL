{
 "cells": [
  {
   "cell_type": "markdown",
   "metadata": {},
   "source": [
    "# K-Means Clustering for Macro-Actions"
   ]
  },
  {
   "cell_type": "markdown",
   "metadata": {},
   "source": [
    "### Imports"
   ]
  },
  {
   "cell_type": "code",
   "execution_count": 1,
   "metadata": {},
   "outputs": [
    {
     "name": "stderr",
     "output_type": "stream",
     "text": [
      "/home/jade/miniconda3/envs/MineRL/lib/python3.8/site-packages/gym/logger.py:34: UserWarning: \u001b[33mWARN: Box bound precision lowered by casting to float32\u001b[0m\n",
      "  warnings.warn(colorize(\"%s: %s\" % (\"WARN\", msg % args), \"yellow\"))\n"
     ]
    }
   ],
   "source": [
    "import os\n",
    "from datetime import datetime\n",
    "\n",
    "import minerl\n",
    "import gym\n",
    "import numpy as np\n",
    "import tqdm\n",
    "from minerl.data import BufferedBatchIter\n",
    "from sklearn.cluster import KMeans\n"
   ]
  },
  {
   "cell_type": "markdown",
   "metadata": {},
   "source": [
    "### Creating Data Dir (Local)"
   ]
  },
  {
   "cell_type": "code",
   "execution_count": 2,
   "metadata": {},
   "outputs": [],
   "source": [
    "data_path = os.path.join(os.getcwd(), \"data\")\n",
    "\n",
    "if not os.path.exists(data_path):\n",
    "    os.mkdir(data_path)\n",
    "\n",
    "os.environ['MINERL_DATA_ROOT'] = data_path # Important"
   ]
  },
  {
   "cell_type": "markdown",
   "metadata": {},
   "source": [
    "### Globals"
   ]
  },
  {
   "cell_type": "code",
   "execution_count": 3,
   "metadata": {},
   "outputs": [],
   "source": [
    "OBF_ENVS = ['MineRLTreechopVectorObf-v0', \"MineRLObtainDiamondVectorObf-v0\"] # Options for user\n",
    "ENVIRONMENT = 'MineRLTreechopVectorObf-v0'\n",
    "\n",
    "NUM_CLUSTERS = 10 # Number of Macro Actions we want to extract\n",
    "CHAIN_LEN = 16 \n",
    "\n",
    "NUM_BATCHES = 1000\n",
    "MAX_ACTIONS = 100000\n",
    "NUM_EPOCHS = 2\n",
    "BATCH_SIZE = 32\n",
    "ACTION_SIZE = 64\n"
   ]
  },
  {
   "cell_type": "markdown",
   "metadata": {},
   "source": [
    "#### Data Download"
   ]
  },
  {
   "cell_type": "code",
   "execution_count": 4,
   "metadata": {},
   "outputs": [],
   "source": [
    "# Downloading environment data if not exists\n",
    "env_data_path = os.path.join(data_path, ENVIRONMENT)\n",
    "if not os.path.exists(env_data_path):\n",
    "    minerl.data.download(data_path, environment = ENVIRONMENT) # Careful"
   ]
  },
  {
   "cell_type": "markdown",
   "metadata": {},
   "source": [
    "### Main\n",
    "Samples the dataset storing `NUM_BATCHES` batches of actions. Then performs KMeans clustering to \n",
    "find `NUM_CLUSTERS` macro actions that represent reasonable actions for our agent to take. "
   ]
  },
  {
   "cell_type": "code",
   "execution_count": 5,
   "metadata": {},
   "outputs": [
    {
     "name": "stderr",
     "output_type": "stream",
     "text": [
      "1000it [00:28, 35.55it/s]\n"
     ]
    },
    {
     "name": "stdout",
     "output_type": "stream",
     "text": [
      "(1001, 32, 16, 64)\n"
     ]
    }
   ],
   "source": [
    "data = minerl.data.make(environment = ENVIRONMENT)\n",
    "\n",
    "# Load the dataset storing NUM_BATCHES batches of actions\n",
    "act_vectors = []\n",
    "for _, act, _, _,_ in tqdm.tqdm(data.batch_iter(batch_size=BATCH_SIZE, seq_len=CHAIN_LEN, num_epochs=NUM_EPOCHS, preload_buffer_size=20)):\n",
    "    act_vectors.append(act['vector'])\n",
    "    if len(act_vectors) > NUM_BATCHES:\n",
    "        break # Are we biased to the start of the actions?\n",
    "\n",
    "print(np.array(act_vectors).shape)\n",
    "\n",
    "# Reshape these the action batches\n",
    "acts = np.concatenate(act_vectors).reshape(-1, ACTION_SIZE) \n",
    "kmeans_acts = acts[:MAX_ACTIONS]\n",
    "\n",
    "# Use sklearn to cluster the demonstrated actions\n",
    "kmeans = KMeans(n_clusters=NUM_CLUSTERS, random_state=0).fit(kmeans_acts)"
   ]
  },
  {
   "cell_type": "code",
   "execution_count": 6,
   "metadata": {},
   "outputs": [
    {
     "data": {
      "text/plain": [
       "(10, 64)"
      ]
     },
     "execution_count": 6,
     "metadata": {},
     "output_type": "execute_result"
    }
   ],
   "source": [
    "# Resultant array of n actions\n",
    "kmeans.cluster_centers_.shape"
   ]
  },
  {
   "cell_type": "code",
   "execution_count": 7,
   "metadata": {},
   "outputs": [
    {
     "data": {
      "text/plain": [
       "array([-0.08597003,  0.45087818, -0.0276162 ,  0.20232925, -0.055964  ,\n",
       "        0.0865974 , -0.0216571 ,  0.25072173, -0.31427016, -0.48646174,\n",
       "        0.03718235, -0.13574366,  0.16456375,  0.27888522, -0.40782313,\n",
       "       -0.00998286,  0.48131185,  0.45898704,  0.27285716, -0.02326634,\n",
       "        0.74651659,  0.25825674, -0.31973654,  0.39955536,  0.11930499,\n",
       "       -0.08074889, -0.18800821, -0.27424003, -0.42986746, -0.21023621,\n",
       "        0.47781847, -0.1571028 , -0.72401725,  0.15643016, -0.68436443,\n",
       "        0.32466521, -0.45244323,  0.13704442,  0.53136888,  0.3897049 ,\n",
       "       -0.34872101,  0.61415974,  0.11200521,  0.0611415 , -0.05284692,\n",
       "        0.25141653,  0.4787411 ,  0.27491028,  0.56681445,  0.42759532,\n",
       "        0.01455613,  0.42124615, -0.10184627, -0.3888384 ,  0.18160532,\n",
       "       -0.43956815,  0.54734265, -0.4005452 ,  0.08690742, -0.0894084 ,\n",
       "        0.13699018, -0.59398699, -0.06636539, -0.06676099])"
      ]
     },
     "execution_count": 7,
     "metadata": {},
     "output_type": "execute_result"
    }
   ],
   "source": [
    "kmeans.cluster_centers_[0]"
   ]
  },
  {
   "cell_type": "code",
   "execution_count": 8,
   "metadata": {},
   "outputs": [
    {
     "name": "stderr",
     "output_type": "stream",
     "text": [
      "/home/jade/miniconda3/envs/MineRL/lib/python3.8/site-packages/gym/logger.py:34: UserWarning: \u001b[33mWARN: Box bound precision lowered by casting to float32\u001b[0m\n",
      "  warnings.warn(colorize(\"%s: %s\" % (\"WARN\", msg % args), \"yellow\"))\n",
      "/home/jade/miniconda3/envs/MineRL/lib/python3.8/runpy.py:127: RuntimeWarning: 'minerl.utils.process_watcher' found in sys.modules after import of package 'minerl.utils', but prior to execution of 'minerl.utils.process_watcher'; this may result in unpredictable behaviour\n",
      "  warn(RuntimeWarning(msg))\n",
      "0it [00:00, ?it/s]"
     ]
    },
    {
     "name": "stdout",
     "output_type": "stream",
     "text": [
      "Total reward:  0.0\n"
     ]
    }
   ],
   "source": [
    "i, net_reward, done, env = 0, 0, False, gym.make(ENVIRONMENT)\n",
    "obs = env.reset()\n",
    "\n",
    "while not done:\n",
    "    # Let's use a frame skip of 4 (could you do better than a hard-coded frame skip?)\n",
    "    if i % 4 == 0:\n",
    "        action = {\n",
    "            'vector': kmeans.cluster_centers_[np.random.choice(NUM_CLUSTERS)]\n",
    "        }\n",
    "\n",
    "    obs, reward, done, info = env.step(action)\n",
    "    env.render()\n",
    "\n",
    "    if reward > 0:\n",
    "        print(\"+{} reward!\".format(reward))\n",
    "    net_reward += reward\n",
    "    i += 1\n",
    "\n",
    "print(\"Total reward: \", net_reward)\n",
    "\n",
    "# i, net_reward, done, env = 0, 0, False, gym.make(ENVIRONMENT)\n",
    "# max = 2000\n",
    "\n",
    "# for idx, cluster in enumerate(kmeans.cluster_centers_):\n",
    "#     obs = env.reset()\n",
    "\n",
    "#     action = {'vector': cluster}\n",
    "#     net_rew = 0\n",
    "#     t_count = 0\n",
    "\n",
    "#     while not done or t_count < max:\n",
    "#         _, rew, done, _ = env.step(action)\n",
    "#         net_rew += rew\n",
    "#         t_count += 1\n",
    "#         env.render()\n",
    "#         if done:\n",
    "#             print(\"EPISODE DONE!\")\n",
    "#             break\n",
    "    \n",
    "#     print(f\"Action {idx+1} reward: {net_rew}\")\n",
    "\n",
    "# env.close()"
   ]
  },
  {
   "cell_type": "code",
   "execution_count": 9,
   "metadata": {},
   "outputs": [
    {
     "ename": "",
     "evalue": "",
     "output_type": "error",
     "traceback": [
      "\u001b[1;31mThe Kernel crashed while executing code in the the current cell or a previous cell. Please review the code in the cell(s) to identify a possible cause of the failure. Click <a href='https://aka.ms/vscodeJupyterKernelCrash'>here</a> for more info. View Jupyter <a href='command:jupyter.viewOutput'>log</a> for further details."
     ]
    }
   ],
   "source": [
    "# # Sampling a random action from our n actions\n",
    "# # kmeans.cluster_centers_[np.random.choice(NUM_CLUSTERS)]\n",
    "\n",
    "# # Save action set\n",
    "# date_suffix = datetime.now().strftime('%m%d%M')\n",
    "# filename = f\"data/action_sets/action_set_{ENVIRONMENT}_{NUM_CLUSTERS}_{date_suffix}.npy\"\n",
    "# np.save(filename, kmeans.cluster_centers_)\n",
    "\n",
    "# # Load action set\n",
    "# # np.load(filename, kmeans.cluster_centers_)\n"
   ]
  }
 ],
 "metadata": {
  "kernelspec": {
   "display_name": "Python 3.8.13 ('MineRL')",
   "language": "python",
   "name": "python3"
  },
  "language_info": {
   "codemirror_mode": {
    "name": "ipython",
    "version": 3
   },
   "file_extension": ".py",
   "mimetype": "text/x-python",
   "name": "python",
   "nbconvert_exporter": "python",
   "pygments_lexer": "ipython3",
   "version": "3.8.13"
  },
  "orig_nbformat": 4,
  "vscode": {
   "interpreter": {
    "hash": "4baed406a5c3542ffab04dd1d070c3531f8336e9125fa136772c58235085d59a"
   }
  }
 },
 "nbformat": 4,
 "nbformat_minor": 2
}
