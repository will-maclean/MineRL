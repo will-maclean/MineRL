{
 "cells": [
  {
   "cell_type": "markdown",
   "metadata": {},
   "source": [
    "# K-Means Clustering for Macro-Actions"
   ]
  },
  {
   "cell_type": "markdown",
   "metadata": {},
   "source": [
    "### Imports"
   ]
  },
  {
   "cell_type": "code",
   "execution_count": null,
   "metadata": {},
   "outputs": [],
   "source": [
    "import os\n",
    "from datetime import datetime\n",
    "\n",
    "import minerl\n",
    "import numpy as np\n",
    "import tqdm\n",
    "from minerl.data import BufferedBatchIter\n",
    "from sklearn.cluster import KMeans\n"
   ]
  },
  {
   "cell_type": "markdown",
   "metadata": {},
   "source": [
    "### Creating Data Dir (Local)"
   ]
  },
  {
   "cell_type": "code",
   "execution_count": null,
   "metadata": {},
   "outputs": [],
   "source": [
    "data_path = os.path.join(os.getcwd(), \"data\")\n",
    "\n",
    "if not os.path.exists(data_path):\n",
    "    os.mkdir(data_path)\n",
    "\n",
    "os.environ['MINERL_DATA_ROOT'] = data_path # Important"
   ]
  },
  {
   "cell_type": "markdown",
   "metadata": {},
   "source": [
    "### Globals"
   ]
  },
  {
   "cell_type": "code",
   "execution_count": null,
   "metadata": {},
   "outputs": [],
   "source": [
    "OBF_ENVS = ['MineRLTreechopVectorObf-v0', \"MineRLObtainDiamondVectorObf-v0\"]\n",
    "ENVIRONMENT = 'MineRLTreechopVectorObf-v0'\n",
    "NUM_CLUSTERS = 32 # Number of actions we want to extract\n",
    "NUM_BATCHES = 1000"
   ]
  },
  {
   "cell_type": "markdown",
   "metadata": {},
   "source": [
    "#### Data Download"
   ]
  },
  {
   "cell_type": "code",
   "execution_count": null,
   "metadata": {},
   "outputs": [],
   "source": [
    "# Downloading environment data if not exists\n",
    "env_data_path = os.path.join(data_path, ENVIRONMENT)\n",
    "if not os.path.exists(env_data_path):\n",
    "    minerl.data.download(data_path, environment = ENVIRONMENT) # Careful"
   ]
  },
  {
   "cell_type": "markdown",
   "metadata": {},
   "source": [
    "### Main\n",
    "Samples the dataset storing `NUM_BATCHES` batches of actions. Then performs KMeans clustering to \n",
    "find `NUM_CLUSTERS` actions that represent reasonable actions for our agent to take. "
   ]
  },
  {
   "cell_type": "code",
   "execution_count": null,
   "metadata": {},
   "outputs": [],
   "source": [
    "data = minerl.data.make(environment = ENVIRONMENT)\n",
    "\n",
    "# Load the dataset storing NUM_BATCHES batches of actions\n",
    "act_vectors = []\n",
    "for _, act, _, _,_ in tqdm.tqdm(data.batch_iter(16, 32, 2, preload_buffer_size=20)):\n",
    "    act_vectors.append(act['vector'])\n",
    "    if len(act_vectors) > NUM_BATCHES:\n",
    "        break\n",
    "\n",
    "# Reshape these the action batches\n",
    "acts = np.concatenate(act_vectors).reshape(-1, 64)\n",
    "kmeans_acts = acts[:100000] # ?\n",
    "\n",
    "# Use sklearn to cluster the demonstrated actions\n",
    "kmeans = KMeans(n_clusters=NUM_CLUSTERS, random_state=0).fit(kmeans_acts)"
   ]
  },
  {
   "cell_type": "code",
   "execution_count": null,
   "metadata": {},
   "outputs": [],
   "source": [
    "# Resultant array of n actions\n",
    "kmeans.cluster_centers_"
   ]
  },
  {
   "cell_type": "code",
   "execution_count": null,
   "metadata": {},
   "outputs": [],
   "source": [
    "# Sampling a random action from our n actions\n",
    "# kmeans.cluster_centers_[np.random.choice(NUM_CLUSTERS)]\n",
    "\n",
    "# Save action set\n",
    "date_suffix = datetime.now().strftime('%m%d%M')\n",
    "filename = f\"data/action_sets/action_set_{ENVIRONMENT}_{NUM_CLUSTERS}_{date_suffix}.npy\"\n",
    "np.save(filename, kmeans.cluster_centers_)\n",
    "\n",
    "# Load action set\n",
    "# np.load(filename, kmeans.cluster_centers_)\n"
   ]
  }
 ],
 "metadata": {
  "kernelspec": {
   "display_name": "Python 3.10.2 ('minerl')",
   "language": "python",
   "name": "python3"
  },
  "language_info": {
   "codemirror_mode": {
    "name": "ipython",
    "version": 3
   },
   "file_extension": ".py",
   "mimetype": "text/x-python",
   "name": "python",
   "nbconvert_exporter": "python",
   "pygments_lexer": "ipython3",
   "version": "3.10.2"
  },
  "orig_nbformat": 4,
  "vscode": {
   "interpreter": {
    "hash": "256d34fb785d5309748f0a837b48a9bf847f3a7e17aa24d22c447586d3ed80ca"
   }
  }
 },
 "nbformat": 4,
 "nbformat_minor": 2
}
