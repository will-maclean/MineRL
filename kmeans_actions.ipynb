{
 "cells": [
  {
   "cell_type": "markdown",
   "metadata": {},
   "source": [
    "# K-Means Clustering for Macro-Actions"
   ]
  },
  {
   "cell_type": "markdown",
   "metadata": {},
   "source": [
    "### Imports"
   ]
  },
  {
   "cell_type": "code",
   "execution_count": 1,
   "metadata": {},
   "outputs": [
    {
     "name": "stderr",
     "output_type": "stream",
     "text": [
      "c:\\Users\\Ayden\\venvs\\minerl\\lib\\site-packages\\gym\\logger.py:34: UserWarning: \u001b[33mWARN: Box bound precision lowered by casting to float32\u001b[0m\n",
      "  warnings.warn(colorize(\"%s: %s\" % (\"WARN\", msg % args), \"yellow\"))\n"
     ]
    }
   ],
   "source": [
    "import os\n",
    "from datetime import datetime\n",
    "\n",
    "import minerl\n",
    "import numpy as np\n",
    "import tqdm\n",
    "from minerl.data import BufferedBatchIter\n",
    "from sklearn.cluster import KMeans\n"
   ]
  },
  {
   "cell_type": "markdown",
   "metadata": {},
   "source": [
    "### Creating Data Dir (Local)"
   ]
  },
  {
   "cell_type": "code",
   "execution_count": 2,
   "metadata": {},
   "outputs": [],
   "source": [
    "data_path = os.path.join(os.getcwd(), \"data\")\n",
    "\n",
    "if not os.path.exists(data_path):\n",
    "    os.mkdir(data_path)\n",
    "\n",
    "os.environ['MINERL_DATA_ROOT'] = data_path # Important"
   ]
  },
  {
   "cell_type": "markdown",
   "metadata": {},
   "source": [
    "### Globals"
   ]
  },
  {
   "cell_type": "code",
   "execution_count": 46,
   "metadata": {},
   "outputs": [],
   "source": [
    "OBF_ENVS = ['MineRLTreechopVectorObf-v0', \"MineRLObtainDiamondVectorObf-v0\"] # Options for user\n",
    "ENVIRONMENT = 'MineRLTreechopVectorObf-v0'\n",
    "\n",
    "NUM_CLUSTERS = 32 # Number of Macro Actions we want to extract\n",
    "CHAIN_LEN = 3 \n",
    "\n",
    "NUM_BATCHES = 1000\n",
    "MAX_ACTIONS = 100000\n",
    "NUM_EPOCHS = 2\n",
    "BATCH_SIZE = 16\n",
    "ACTION_SIZE = 64\n"
   ]
  },
  {
   "cell_type": "markdown",
   "metadata": {},
   "source": [
    "#### Data Download"
   ]
  },
  {
   "cell_type": "code",
   "execution_count": 4,
   "metadata": {},
   "outputs": [],
   "source": [
    "# Downloading environment data if not exists\n",
    "env_data_path = os.path.join(data_path, ENVIRONMENT)\n",
    "if not os.path.exists(env_data_path):\n",
    "    minerl.data.download(data_path, environment = ENVIRONMENT) # Careful"
   ]
  },
  {
   "cell_type": "markdown",
   "metadata": {},
   "source": [
    "### Main\n",
    "Samples the dataset storing `NUM_BATCHES` batches of actions. Then performs KMeans clustering to \n",
    "find `NUM_CLUSTERS` macro actions that represent reasonable actions for our agent to take. "
   ]
  },
  {
   "cell_type": "code",
   "execution_count": 34,
   "metadata": {},
   "outputs": [
    {
     "name": "stderr",
     "output_type": "stream",
     "text": [
      "1000it [00:10, 92.01it/s]\n"
     ]
    },
    {
     "name": "stdout",
     "output_type": "stream",
     "text": [
      "(16016, 3, 64)\n"
     ]
    }
   ],
   "source": [
    "data = minerl.data.make(environment = ENVIRONMENT)\n",
    "\n",
    "# Load the dataset storing NUM_BATCHES batches of actions\n",
    "act_vectors = []\n",
    "for _, act, _, _,_ in tqdm.tqdm(data.batch_iter(batch_size=NUM_EPOCHS, seq_len=CHAIN_LEN, num_epochs=BATCH_SIZE, preload_buffer_size=20)):\n",
    "    act_vectors.append(act['vector'])\n",
    "    if len(act_vectors) > NUM_BATCHES:\n",
    "        break # Are we biased to the start of the actions?\n",
    "\n",
    "# Reshape these the action batches\n",
    "acts = np.concatenate(act_vectors).reshape(-1, ACTION_SIZE*CHAIN_LEN) \n",
    "kmeans_acts = acts[:MAX_ACTIONS]\n",
    "\n",
    "# Use sklearn to cluster the demonstrated actions\n",
    "kmeans = KMeans(n_clusters=NUM_CLUSTERS, random_state=0).fit(kmeans_acts)"
   ]
  },
  {
   "cell_type": "code",
   "execution_count": 53,
   "metadata": {},
   "outputs": [
    {
     "data": {
      "text/plain": [
       "(32, 192)"
      ]
     },
     "execution_count": 53,
     "metadata": {},
     "output_type": "execute_result"
    }
   ],
   "source": [
    "# Resultant array of n actions\n",
    "kmeans.cluster_centers_.shape"
   ]
  },
  {
   "cell_type": "code",
   "execution_count": 44,
   "metadata": {},
   "outputs": [
    {
     "data": {
      "text/plain": [
       "array([-0.0860018 ,  0.45094037, -0.02766714,  0.2022553 , -0.05636381,\n",
       "        0.08664027, -0.0216641 ,  0.25046355, -0.31427099, -0.48654878,\n",
       "        0.03762846, -0.13627186,  0.16483366,  0.2784405 , -0.40745804,\n",
       "       -0.00987099,  0.48126181,  0.45915297,  0.27300217, -0.02293924,\n",
       "        0.74626644,  0.258351  , -0.32040715,  0.39957848,  0.11912912,\n",
       "       -0.08074037, -0.18782766, -0.27440799, -0.42946329, -0.21008807,\n",
       "        0.47765087, -0.1569465 , -0.72423577,  0.15656008, -0.68440162,\n",
       "        0.32464427, -0.45258758,  0.1370266 ,  0.53154008,  0.38975307,\n",
       "       -0.34899373,  0.61454829,  0.11235921,  0.06149278, -0.05278376,\n",
       "        0.25163075,  0.47902586,  0.2747226 ,  0.56704168,  0.42775839,\n",
       "        0.01452625,  0.42158084, -0.10199873, -0.38892256,  0.18138329,\n",
       "       -0.43968809,  0.54726122, -0.4010378 ,  0.0867233 , -0.08961524,\n",
       "        0.13705646, -0.59424892, -0.06680553, -0.06700752, -0.08606983,\n",
       "        0.450948  , -0.02775814,  0.20231551, -0.05656565,  0.08649618,\n",
       "       -0.0215389 ,  0.25046269, -0.31414136, -0.48642404,  0.03779367,\n",
       "       -0.13640003,  0.16492761,  0.27828609, -0.40741006, -0.00975753,\n",
       "        0.4812624 ,  0.45910687,  0.27304562, -0.02284823,  0.74624557,\n",
       "        0.25844916, -0.32066928,  0.39959656,  0.11902563, -0.08083777,\n",
       "       -0.18774677, -0.27442884, -0.42936686, -0.21009648,  0.47766045,\n",
       "       -0.15696341, -0.7243487 ,  0.15659249, -0.68446656,  0.32457268,\n",
       "       -0.45267919,  0.13703485,  0.53146401,  0.38967508, -0.34909287,\n",
       "        0.61458518,  0.11237009,  0.06157403, -0.05270306,  0.25155084,\n",
       "        0.47912253,  0.27468832,  0.56711512,  0.42780672,  0.01459069,\n",
       "        0.42169529, -0.10202281, -0.38895504,  0.18123286, -0.43973526,\n",
       "        0.5472777 , -0.40112659,  0.08672726, -0.08968465,  0.13708591,\n",
       "       -0.59434862, -0.0669984 , -0.06700144, -0.08603939,  0.4509268 ,\n",
       "       -0.02775271,  0.20228824, -0.05652219,  0.08650851, -0.02157439,\n",
       "        0.25049344, -0.31416819, -0.48642736,  0.03774318, -0.1363565 ,\n",
       "        0.16490045,  0.27834125, -0.40744578, -0.00977037,  0.4812702 ,\n",
       "        0.45910323,  0.27301124, -0.02285931,  0.74624851,  0.25843612,\n",
       "       -0.32061162,  0.39959341,  0.11904345, -0.08079183, -0.18775141,\n",
       "       -0.27438492, -0.4293995 , -0.21010542,  0.47765918, -0.15697578,\n",
       "       -0.72433638,  0.15656907, -0.68447174,  0.32460092, -0.45265663,\n",
       "        0.13701677,  0.53143626,  0.38967657, -0.34905114,  0.61456176,\n",
       "        0.11232156,  0.06154827, -0.05274216,  0.25154769,  0.47910683,\n",
       "        0.27470004,  0.5670668 ,  0.42779161,  0.01456402,  0.42167954,\n",
       "       -0.10203126, -0.38896412,  0.18125894, -0.43970923,  0.5472479 ,\n",
       "       -0.4010846 ,  0.08674906, -0.08964456,  0.13705021, -0.59428807,\n",
       "       -0.06696138, -0.06700976])"
      ]
     },
     "execution_count": 44,
     "metadata": {},
     "output_type": "execute_result"
    }
   ],
   "source": [
    "kmeans.cluster_centers_[0]"
   ]
  },
  {
   "cell_type": "code",
   "execution_count": null,
   "metadata": {},
   "outputs": [],
   "source": [
    "# Sampling a random action from our n actions\n",
    "# kmeans.cluster_centers_[np.random.choice(NUM_CLUSTERS)]\n",
    "\n",
    "# Save action set\n",
    "date_suffix = datetime.now().strftime('%m%d%M')\n",
    "filename = f\"data/action_sets/action_set_{ENVIRONMENT}_{NUM_CLUSTERS}_{date_suffix}.npy\"\n",
    "np.save(filename, kmeans.cluster_centers_)\n",
    "\n",
    "# Load action set\n",
    "# np.load(filename, kmeans.cluster_centers_)\n"
   ]
  }
 ],
 "metadata": {
  "kernelspec": {
   "display_name": "Python 3.10.2 ('minerl')",
   "language": "python",
   "name": "python3"
  },
  "language_info": {
   "codemirror_mode": {
    "name": "ipython",
    "version": 3
   },
   "file_extension": ".py",
   "mimetype": "text/x-python",
   "name": "python",
   "nbconvert_exporter": "python",
   "pygments_lexer": "ipython3",
   "version": "3.10.2"
  },
  "orig_nbformat": 4,
  "vscode": {
   "interpreter": {
    "hash": "256d34fb785d5309748f0a837b48a9bf847f3a7e17aa24d22c447586d3ed80ca"
   }
  }
 },
 "nbformat": 4,
 "nbformat_minor": 2
}
