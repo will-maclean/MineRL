{
 "cells": [
  {
   "cell_type": "markdown",
   "metadata": {},
   "source": [
    "### Action Exploration Notebook"
   ]
  },
  {
   "cell_type": "code",
   "execution_count": 1,
   "metadata": {},
   "outputs": [
    {
     "name": "stderr",
     "output_type": "stream",
     "text": [
      "/home/ayden/miniconda3/envs/minerl_env/lib/python3.8/site-packages/gym/logger.py:34: UserWarning: \u001b[33mWARN: Box bound precision lowered by casting to float32\u001b[0m\n",
      "  warnings.warn(colorize(\"%s: %s\" % (\"WARN\", msg % args), \"yellow\"))\n"
     ]
    }
   ],
   "source": [
    "import os\n",
    "from datetime import datetime\n",
    "from pathlib import Path\n",
    "import pickle\n",
    "\n",
    "import gym\n",
    "import minerl\n",
    "import numpy as np\n",
    "import pandas as pd\n",
    "import tqdm\n",
    "from kmodes.kprototypes import KPrototypes\n",
    "from sklearn.cluster import KMeans\n",
    "from minerl.data import BufferedBatchIter\n",
    "from numpy import array, float32"
   ]
  },
  {
   "cell_type": "code",
   "execution_count": 23,
   "metadata": {},
   "outputs": [],
   "source": [
    "# Hyperparameters\n",
    "RANDOM_STATE = 123\n",
    "NUM_CLUSTERS = 12 # Number of Macro Actions we want to extract\n",
    "\n",
    "NUM_EPOCHS = 2\n",
    "BATCH_SIZE = 10\n",
    "MAX_ACTIONS = 20000\n",
    "\n",
    "BIN_AS_CAT = False\n",
    "BIN_PROB_THRESHOLD = 0.2\n",
    "\n",
    "NULL_ACTION = {\n",
    "    'attack': 0,\n",
    "    'back': 0,\n",
    "    'camera0': 0.0,\n",
    "    'camera1': 0.0,\n",
    "    'craft': 'none',\n",
    "    'equip': 'none',\n",
    "    'forward': 0,\n",
    "    'jump': 0,\n",
    "    'left': 0,\n",
    "    'nearbyCraft': 'none',\n",
    "    'nearbySmelt': 'none',\n",
    "    'place': 'none',\n",
    "    'right': 0,\n",
    "    'sneak': 0,\n",
    "    'sprint': 0\n",
    "}\n",
    "\n",
    "# Paths\n",
    "ROOT_PATH = Path(os.getcwd()).absolute().parent.parent\n",
    "SRC_PATH = ROOT_PATH.joinpath('src')\n",
    "DATA_PATH = ROOT_PATH.joinpath('data')\n",
    "ACTIONS_PATH = SRC_PATH.joinpath('actions')"
   ]
  },
  {
   "cell_type": "code",
   "execution_count": 31,
   "metadata": {},
   "outputs": [],
   "source": [
    "# Util functions\n",
    "StringBuilder = lambda ENV_STRING: (f'MineRL{ENV_STRING}-v0', str(ACTIONS_PATH.joinpath(f'actions-{ENV_STRING}.pickle')))\n",
    "\n",
    "def log(msg, level=\"INFO\"):\n",
    "    format_dict = {\n",
    "        \"SUCCESS\": \"\\U00002705 SUCCESS\",\n",
    "        \"ERROR\": \"\\U0000274C ERROR\"\n",
    "    }\n",
    "\n",
    "    print(f\"{datetime.now()} | {format_dict.get(level, level)} | {msg}\")\n",
    "\n",
    "def check_download(environment):\n",
    "    # Downloading environment data if it doesn't exist\n",
    "    env_data_path = os.path.join(os.environ['MINERL_DATA_ROOT'], environment)\n",
    "    if not os.path.exists(env_data_path):\n",
    "        log(f\"Downloading {environment} data...\")\n",
    "        os.mkdir(env_data_path)\n",
    "        minerl.data.download(environment = environment)\n",
    "        log(f\"Downloaded\", level=\"SUCCESS\")\n",
    "\n",
    "def decode_actions(obj) -> list:\n",
    "    \"\"\"Decodes the batch of actions into a list of actions sutiable to fit into a dataframe.\n",
    "    Important for kmodes/kmeans\n",
    "    \"\"\"\n",
    "    actions = []\n",
    "\n",
    "    for i in range(BATCH_SIZE):\n",
    "        proc = NULL_ACTION.copy()\n",
    "        for k in obj.keys():\n",
    "            if k == \"camera\":\n",
    "                for i, dim in enumerate(obj[k][i]):\n",
    "                    proc[f\"{k}{i}\"] = dim\n",
    "            else:\n",
    "                proc[k] =  obj[k][i]\n",
    "        actions.append(proc)\n",
    "\n",
    "    return actions\n",
    "\n",
    "def encode_action(obj):\n",
    "    \"\"\" Encodes the action dict into a format acceptable by minerl\n",
    "    \"\"\"\n",
    "    proc = {}\n",
    "\n",
    "    for k, v in obj.items():\n",
    "        if 'camera' not in k:\n",
    "            try:\n",
    "                proc[k] = array(int(float(v) > BIN_PROB_THRESHOLD)) if not BIN_AS_CAT else array(int(float(v)))\n",
    "            except:\n",
    "                proc[k] = v\n",
    "    \n",
    "    proc['camera'] = array([obj.get('camera0'), obj.get('camera1')], dtype=float32)\n",
    "    return proc"
   ]
  },
  {
   "cell_type": "markdown",
   "metadata": {},
   "source": [
    "## Setup & Choose ENV"
   ]
  },
  {
   "cell_type": "code",
   "execution_count": 26,
   "metadata": {},
   "outputs": [],
   "source": [
    "# Initial setup\n",
    "data_path = str(DATA_PATH)\n",
    "\n",
    "if not os.path.exists(data_path):\n",
    "    os.mkdir(data_path)\n",
    "\n",
    "os.environ['MINERL_DATA_ROOT'] = data_path # Important"
   ]
  },
  {
   "cell_type": "code",
   "execution_count": 45,
   "metadata": {},
   "outputs": [],
   "source": [
    "envs = [\"Treechop\", \"Navigate\", \"ObtainIronPickaxe\", \"ObtainDiamond\"]\n",
    "ENVIRONMENT = \"ObtainDiamond\""
   ]
  },
  {
   "cell_type": "markdown",
   "metadata": {},
   "source": [
    "### Check Download"
   ]
  },
  {
   "cell_type": "code",
   "execution_count": 46,
   "metadata": {},
   "outputs": [
    {
     "name": "stdout",
     "output_type": "stream",
     "text": [
      "2022-08-31 21:06:08.094214 | INFO | BEGIN ACTIONS EXTRACTION, ENV: ObtainDiamond\n"
     ]
    }
   ],
   "source": [
    "log(f\"BEGIN ACTIONS EXTRACTION, ENV: {ENVIRONMENT}\")\n",
    "environment, save_path = StringBuilder(ENVIRONMENT)\n",
    "check_download(environment)"
   ]
  },
  {
   "cell_type": "markdown",
   "metadata": {},
   "source": [
    "### Extract Human data"
   ]
  },
  {
   "cell_type": "code",
   "execution_count": 47,
   "metadata": {},
   "outputs": [
    {
     "name": "stdout",
     "output_type": "stream",
     "text": [
      "2022-08-31 21:06:10.013701 | INFO | Collecting actions...\n"
     ]
    },
    {
     "name": "stderr",
     "output_type": "stream",
     "text": [
      "100%|██████████| 8580/8580 [00:00<00:00, 35010.51it/s]\n",
      "100%|██████████| 13702/13702 [00:00<00:00, 23815.31it/s]\n",
      "100%|██████████| 33892/33892 [00:01<00:00, 28413.51it/s]\n"
     ]
    }
   ],
   "source": [
    "data = minerl.data.make(environment = environment)\n",
    "iterator = BufferedBatchIter(data)\n",
    "i = 0\n",
    "collected_actions = []\n",
    "log(\"Collecting actions...\")\n",
    "for current_state, action, reward, next_state, done in iterator.buffered_batch_iter(batch_size=BATCH_SIZE, num_epochs=NUM_EPOCHS):\n",
    "    collected_actions += decode_actions(action)\n",
    "    \n",
    "    i += 1\n",
    "    if i == MAX_ACTIONS // BATCH_SIZE:\n",
    "        break\n",
    "\n",
    "df = pd.DataFrame(collected_actions)"
   ]
  },
  {
   "cell_type": "code",
   "execution_count": 39,
   "metadata": {},
   "outputs": [
    {
     "data": {
      "text/plain": [
       "none    19970\n",
       "dirt       30\n",
       "Name: place, dtype: int64"
      ]
     },
     "execution_count": 39,
     "metadata": {},
     "output_type": "execute_result"
    }
   ],
   "source": [
    "# NAVIGATE\n",
    "df['place'].value_counts() "
   ]
  },
  {
   "cell_type": "code",
   "execution_count": 44,
   "metadata": {},
   "outputs": [
    {
     "data": {
      "text/plain": [
       "none       19980\n",
       "furnace       10\n",
       "torch         10\n",
       "Name: place, dtype: int64"
      ]
     },
     "execution_count": 44,
     "metadata": {},
     "output_type": "execute_result"
    }
   ],
   "source": [
    "# ObtainIronPickaxe\n",
    "df['place'].value_counts() "
   ]
  },
  {
   "cell_type": "code",
   "execution_count": 48,
   "metadata": {},
   "outputs": [
    {
     "data": {
      "text/plain": [
       "none              19670\n",
       "stone               210\n",
       "cobblestone          70\n",
       "torch                30\n",
       "dirt                 10\n",
       "crafting_table       10\n",
       "Name: place, dtype: int64"
      ]
     },
     "execution_count": 48,
     "metadata": {},
     "output_type": "execute_result"
    }
   ],
   "source": [
    "# ObtainDiamond\n",
    "df['place'].value_counts() "
   ]
  },
  {
   "cell_type": "code",
   "execution_count": 49,
   "metadata": {},
   "outputs": [],
   "source": [
    "df.drop(['craft', 'equip', 'nearbyCraft', 'nearbySmelt'], axis = 1, inplace=True)"
   ]
  },
  {
   "cell_type": "code",
   "execution_count": 57,
   "metadata": {},
   "outputs": [],
   "source": [
    "df['place'] = df.apply(lambda row: int(row['place'] in ['cobblestone', 'stone', 'dirt']), axis=1)"
   ]
  },
  {
   "cell_type": "code",
   "execution_count": 65,
   "metadata": {},
   "outputs": [
    {
     "name": "stdout",
     "output_type": "stream",
     "text": [
      "2022-08-31 21:11:32.925052 | ✅ SUCCESS | Extracted Actions\n"
     ]
    }
   ],
   "source": [
    "kmeans = KMeans(n_clusters=NUM_CLUSTERS, random_state=RANDOM_STATE).fit(df.values)\n",
    "\n",
    "extracted_actions = []\n",
    "for cluster in kmeans.cluster_centers_:\n",
    "    action = NULL_ACTION.copy()\n",
    "    action.update({df.columns[i]: cluster[i] for i in range(len(cluster))})\n",
    "    extracted_actions.append(action)\n",
    "\n",
    "log(\"Extracted Actions\", level=\"SUCCESS\")"
   ]
  },
  {
   "cell_type": "code",
   "execution_count": 69,
   "metadata": {},
   "outputs": [
    {
     "data": {
      "text/plain": [
       "[0.015,\n",
       " 0.0,\n",
       " 0.0,\n",
       " -0.0,\n",
       " 0.0606,\n",
       " 0.0085,\n",
       " 0.0078,\n",
       " 0.0278,\n",
       " 0.006,\n",
       " 0.016,\n",
       " 0.007,\n",
       " 0.0121]"
      ]
     },
     "execution_count": 69,
     "metadata": {},
     "output_type": "execute_result"
    }
   ],
   "source": [
    "[round(i['place'], 4) for i in extracted_actions]"
   ]
  },
  {
   "cell_type": "code",
   "execution_count": null,
   "metadata": {},
   "outputs": [],
   "source": []
  }
 ],
 "metadata": {
  "kernelspec": {
   "display_name": "Python 3.8.13 ('MineRL')",
   "language": "python",
   "name": "python3"
  },
  "language_info": {
   "codemirror_mode": {
    "name": "ipython",
    "version": 3
   },
   "file_extension": ".py",
   "mimetype": "text/x-python",
   "name": "python",
   "nbconvert_exporter": "python",
   "pygments_lexer": "ipython3",
   "version": "3.8.13"
  },
  "orig_nbformat": 4,
  "vscode": {
   "interpreter": {
    "hash": "4baed406a5c3542ffab04dd1d070c3531f8336e9125fa136772c58235085d59a"
   }
  }
 },
 "nbformat": 4,
 "nbformat_minor": 2
}
