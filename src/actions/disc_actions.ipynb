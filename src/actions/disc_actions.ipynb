{
 "cells": [
  {
   "cell_type": "code",
   "execution_count": 29,
   "metadata": {},
   "outputs": [],
   "source": [
    "import os\n",
    "from datetime import datetime\n",
    "from minerl.data import BufferedBatchIter\n",
    "\n",
    "\n",
    "import minerl\n",
    "import gym\n",
    "import numpy as np\n",
    "import tqdm\n",
    "from kmodes.kprototypes import KPrototypes\n",
    "\n",
    "import numpy as np\n",
    "from numpy import array, float32\n",
    "import pandas as pd\n",
    "\n",
    "from pathlib import Path\n",
    "\n",
    "NULL_ACTION = {\n",
    "    'attack': 0,\n",
    "    'back': 0,\n",
    "    'camera0': 0.0,\n",
    "    'camera1': 0.0,\n",
    "    'craft': 'none',\n",
    "    'equip': 'none',\n",
    "    'forward': 0,\n",
    "    'jump': 0,\n",
    "    'left': 0,\n",
    "    'nearbyCraft': 'none',\n",
    "    'nearbySmelt': 'none',\n",
    "    'place': 'none',\n",
    "    'right': 0,\n",
    "    'sneak': 0,\n",
    "    'sprint': 0}"
   ]
  },
  {
   "cell_type": "markdown",
   "metadata": {},
   "source": [
    "- treat binary vars as categorical\n",
    "- extract more actions\n",
    "- let it search more actions\n",
    "\n",
    "- check if it works in env..\n",
    "- figure out a way to save the extracted actions..\n",
    "\n",
    "- convert to actions_extractor\n",
    "- check enums"
   ]
  },
  {
   "cell_type": "code",
   "execution_count": 25,
   "metadata": {},
   "outputs": [],
   "source": [
    "# Hyperparameters\n",
    "NUM_CLUSTERS = 12 # Number of Macro Actions we want to extract\n",
    "\n",
    "NUM_EPOCHS = 2\n",
    "BATCH_SIZE = 10\n",
    "MAX_ACTIONS = 5000\n",
    "\n",
    "ENVIRONMENT = 'MineRLTreechop-v0'\n",
    "\n",
    "BIN_AS_CAT = False\n",
    "BIN_PROB_THRESHOLD = 0.2"
   ]
  },
  {
   "cell_type": "code",
   "execution_count": 26,
   "metadata": {},
   "outputs": [],
   "source": [
    "# Initial setup\n",
    "data_path = str(Path().absolute().parent.parent.joinpath('data'))\n",
    "\n",
    "if not os.path.exists(data_path):\n",
    "    os.mkdir(data_path)\n",
    "\n",
    "os.environ['MINERL_DATA_ROOT'] = data_path # Important\n",
    "\n",
    "# Downloading environment data if it doesn't exist\n",
    "env_data_path = os.path.join(data_path, ENVIRONMENT)\n",
    "\n",
    "if not os.path.exists(env_data_path):\n",
    "    # os.mkdir(f'data/{ENVIRONMENT}')\n",
    "    minerl.data.download(environment = ENVIRONMENT)"
   ]
  },
  {
   "cell_type": "code",
   "execution_count": 44,
   "metadata": {},
   "outputs": [
    {
     "data": {
      "text/plain": [
       "{'attack': array([1, 1, 1, 1, 1, 1, 1, 0, 1, 0]),\n",
       " 'back': array([0, 0, 0, 0, 0, 0, 0, 0, 0, 0]),\n",
       " 'camera': array([[ 0.        ,  0.        ],\n",
       "        [ 0.        ,  0.        ],\n",
       "        [-3.2999954 ,  1.0500107 ],\n",
       "        [-2.85      , -0.29999924],\n",
       "        [-0.29999924, -0.30000305],\n",
       "        [ 0.14999962, -0.        ],\n",
       "        [ 0.        ,  0.        ],\n",
       "        [-0.        ,  0.15002441],\n",
       "        [ 2.7000008 ,  1.800003  ],\n",
       "        [-1.1999998 ,  1.0499878 ]], dtype=float32),\n",
       " 'forward': array([0, 0, 0, 0, 1, 0, 0, 1, 0, 1]),\n",
       " 'jump': array([0, 0, 0, 0, 0, 1, 0, 0, 0, 0]),\n",
       " 'left': array([0, 0, 0, 0, 0, 0, 0, 0, 0, 0]),\n",
       " 'right': array([0, 0, 0, 0, 0, 0, 0, 0, 0, 0]),\n",
       " 'sneak': array([0, 0, 0, 0, 0, 0, 0, 0, 0, 0]),\n",
       " 'sprint': array([0, 0, 0, 0, 0, 0, 0, 0, 0, 1])}"
      ]
     },
     "execution_count": 44,
     "metadata": {},
     "output_type": "execute_result"
    }
   ],
   "source": [
    "obj = raw_actions[0]\n",
    "obj"
   ]
  },
  {
   "cell_type": "code",
   "execution_count": 49,
   "metadata": {},
   "outputs": [],
   "source": [
    "actions = []\n",
    "for i in range(BATCH_SIZE):\n",
    "    proc = NULL_ACTION.copy()\n",
    "    for k in obj.keys():\n",
    "        if k == \"camera\":\n",
    "            for i, dim in enumerate(obj[k][i]):\n",
    "                proc[f\"{k}{i}\"] = dim\n",
    "        else:\n",
    "            proc[k] =  obj[k][i]\n",
    "    actions.append(proc)"
   ]
  },
  {
   "cell_type": "code",
   "execution_count": 52,
   "metadata": {},
   "outputs": [
    {
     "ename": "NameError",
     "evalue": "name '__module__' is not defined",
     "output_type": "error",
     "traceback": [
      "\u001b[0;31m---------------------------------------------------------------------------\u001b[0m",
      "\u001b[0;31mNameError\u001b[0m                                 Traceback (most recent call last)",
      "\u001b[1;32m/home/ayden/dev/MineRL/src/actions/disc_actions.ipynb Cell 7\u001b[0m in \u001b[0;36m<cell line: 1>\u001b[0;34m()\u001b[0m\n\u001b[0;32m----> <a href='vscode-notebook-cell:/home/ayden/dev/MineRL/src/actions/disc_actions.ipynb#X42sZmlsZQ%3D%3D?line=0'>1</a>\u001b[0m \u001b[39m__module__\u001b[39;49m\n",
      "\u001b[0;31mNameError\u001b[0m: name '__module__' is not defined"
     ]
    }
   ],
   "source": [
    "__module__"
   ]
  },
  {
   "cell_type": "code",
   "execution_count": 58,
   "metadata": {},
   "outputs": [
    {
     "name": "stdout",
     "output_type": "stream",
     "text": [
      "2022-08-24 01:00:13.978140 | ❌ ERROR | fsdjfjsd\n"
     ]
    }
   ],
   "source": [
    "\n",
    "\n",
    "log(\"fsdjfjsd\", \"ERROR\")"
   ]
  },
  {
   "cell_type": "code",
   "execution_count": 27,
   "metadata": {},
   "outputs": [],
   "source": [
    "def decode_actions(obj) -> list:\n",
    "    actions = []\n",
    "\n",
    "    for i in range(BATCH_SIZE):\n",
    "        proc = NULL_ACTION\n",
    "        for k in obj.keys():\n",
    "            if k == \"camera\":\n",
    "                for i, dim in enumerate(obj[k][i]):\n",
    "                    proc[f\"{k}{i}\"] = dim\n",
    "            else:\n",
    "                proc[k] =  obj[k][i]\n",
    "        actions.append(proc)\n",
    "\n",
    "    return actions\n",
    "\n",
    "def encode_action(obj):\n",
    "    proc = {}\n",
    "\n",
    "    for k, v in obj.items():\n",
    "        if 'camera' not in k:\n",
    "            try:\n",
    "                proc[k] = array(int(float(v) > BIN_PROB_THRESHOLD)) if not BIN_AS_CAT else array(int(float(v)))\n",
    "            except:\n",
    "                proc[k] = v\n",
    "    \n",
    "    proc['camera'] = array([obj.get('camera0'), obj.get('camera1')], dtype=float32)\n",
    "    return proc"
   ]
  },
  {
   "cell_type": "code",
   "execution_count": 34,
   "metadata": {},
   "outputs": [
    {
     "name": "stderr",
     "output_type": "stream",
     "text": [
      "100%|██████████| 1867/1867 [00:00<00:00, 152723.91it/s]\n",
      "100%|██████████| 2468/2468 [00:00<00:00, 84738.96it/s]\n",
      "100%|██████████| 1950/1950 [00:00<00:00, 145059.55it/s]\n",
      "100%|██████████| 2845/2845 [00:00<00:00, 150472.81it/s]\n",
      "100%|██████████| 4383/4383 [00:00<00:00, 150546.09it/s]\n",
      "100%|██████████| 1751/1751 [00:00<00:00, 81963.15it/s]\n",
      "100%|██████████| 2477/2477 [00:00<00:00, 151193.93it/s]\n",
      "100%|██████████| 2461/2461 [00:00<00:00, 88619.92it/s]\n",
      "100%|██████████| 1718/1718 [00:00<00:00, 152960.46it/s]\n",
      "100%|██████████| 1379/1379 [00:00<00:00, 140824.53it/s]\n",
      "100%|██████████| 1697/1697 [00:00<00:00, 138074.37it/s]\n",
      "100%|██████████| 1877/1877 [00:00<00:00, 171391.75it/s]\n",
      "100%|██████████| 1930/1930 [00:00<00:00, 153201.36it/s]\n",
      "100%|██████████| 2632/2632 [00:00<00:00, 15708.69it/s]\n",
      "100%|██████████| 1844/1844 [00:00<00:00, 163723.47it/s]\n",
      "100%|██████████| 1784/1784 [00:00<00:00, 147618.58it/s]\n",
      "100%|██████████| 2168/2168 [00:00<00:00, 156801.82it/s]\n",
      "100%|██████████| 1655/1655 [00:00<00:00, 73639.70it/s]\n",
      "100%|██████████| 1900/1900 [00:00<00:00, 108181.33it/s]\n",
      "100%|██████████| 1635/1635 [00:00<00:00, 156546.75it/s]\n",
      "100%|██████████| 1889/1889 [00:00<00:00, 105780.17it/s]\n",
      "100%|██████████| 1975/1975 [00:00<00:00, 84243.53it/s]\n",
      "100%|██████████| 2038/2038 [00:00<00:00, 158654.58it/s]\n",
      "100%|██████████| 1964/1964 [00:00<00:00, 75754.44it/s]\n",
      "100%|██████████| 1417/1417 [00:00<00:00, 71782.80it/s]\n",
      "100%|██████████| 2851/2851 [00:00<00:00, 105657.16it/s]\n"
     ]
    }
   ],
   "source": [
    "data = minerl.data.make(ENVIRONMENT)\n",
    "iterator = BufferedBatchIter(data)\n",
    "i = 0\n",
    "collected_actions = []\n",
    "raw_actions = []\n",
    "for current_state, action, reward, next_state, done in iterator.buffered_batch_iter(batch_size=BATCH_SIZE, num_epochs=NUM_EPOCHS):\n",
    "    collected_actions += decode_actions(action)\n",
    "    raw_actions.append(action)\n",
    "    \n",
    "    i += 1\n",
    "    if i == MAX_ACTIONS // BATCH_SIZE:\n",
    "        break\n",
    "\n",
    "df = pd.DataFrame(collected_actions)"
   ]
  },
  {
   "cell_type": "code",
   "execution_count": 42,
   "metadata": {},
   "outputs": [
    {
     "data": {
      "text/html": [
       "<div>\n",
       "<style scoped>\n",
       "    .dataframe tbody tr th:only-of-type {\n",
       "        vertical-align: middle;\n",
       "    }\n",
       "\n",
       "    .dataframe tbody tr th {\n",
       "        vertical-align: top;\n",
       "    }\n",
       "\n",
       "    .dataframe thead th {\n",
       "        text-align: right;\n",
       "    }\n",
       "</style>\n",
       "<table border=\"1\" class=\"dataframe\">\n",
       "  <thead>\n",
       "    <tr style=\"text-align: right;\">\n",
       "      <th></th>\n",
       "      <th>attack</th>\n",
       "      <th>back</th>\n",
       "      <th>camera0</th>\n",
       "      <th>camera1</th>\n",
       "      <th>craft</th>\n",
       "      <th>equip</th>\n",
       "      <th>forward</th>\n",
       "      <th>jump</th>\n",
       "      <th>left</th>\n",
       "      <th>nearbyCraft</th>\n",
       "      <th>nearbySmelt</th>\n",
       "      <th>place</th>\n",
       "      <th>right</th>\n",
       "      <th>sneak</th>\n",
       "      <th>sprint</th>\n",
       "    </tr>\n",
       "  </thead>\n",
       "  <tbody>\n",
       "    <tr>\n",
       "      <th>0</th>\n",
       "      <td>1</td>\n",
       "      <td>0</td>\n",
       "      <td>-1.95</td>\n",
       "      <td>6.75</td>\n",
       "      <td>none</td>\n",
       "      <td>none</td>\n",
       "      <td>0</td>\n",
       "      <td>0</td>\n",
       "      <td>0</td>\n",
       "      <td>none</td>\n",
       "      <td>none</td>\n",
       "      <td>none</td>\n",
       "      <td>0</td>\n",
       "      <td>0</td>\n",
       "      <td>0</td>\n",
       "    </tr>\n",
       "  </tbody>\n",
       "</table>\n",
       "</div>"
      ],
      "text/plain": [
       "   attack  back  camera0  camera1 craft equip  forward  jump  left  \\\n",
       "0       1     0    -1.95     6.75  none  none        0     0     0   \n",
       "\n",
       "  nearbyCraft nearbySmelt place  right  sneak  sprint  \n",
       "0        none        none  none      0      0       0  "
      ]
     },
     "execution_count": 42,
     "metadata": {},
     "output_type": "execute_result"
    }
   ],
   "source": [
    "df.drop_duplicates()"
   ]
  },
  {
   "cell_type": "code",
   "execution_count": 38,
   "metadata": {},
   "outputs": [
    {
     "data": {
      "text/plain": [
       "{'attack': array([1, 1, 1, 1, 1, 1, 1, 0, 1, 0]),\n",
       " 'back': array([0, 0, 0, 0, 0, 0, 0, 0, 0, 0]),\n",
       " 'camera': array([[ 0.        ,  0.        ],\n",
       "        [ 0.        ,  0.        ],\n",
       "        [-3.2999954 ,  1.0500107 ],\n",
       "        [-2.85      , -0.29999924],\n",
       "        [-0.29999924, -0.30000305],\n",
       "        [ 0.14999962, -0.        ],\n",
       "        [ 0.        ,  0.        ],\n",
       "        [-0.        ,  0.15002441],\n",
       "        [ 2.7000008 ,  1.800003  ],\n",
       "        [-1.1999998 ,  1.0499878 ]], dtype=float32),\n",
       " 'forward': array([0, 0, 0, 0, 1, 0, 0, 1, 0, 1]),\n",
       " 'jump': array([0, 0, 0, 0, 0, 1, 0, 0, 0, 0]),\n",
       " 'left': array([0, 0, 0, 0, 0, 0, 0, 0, 0, 0]),\n",
       " 'right': array([0, 0, 0, 0, 0, 0, 0, 0, 0, 0]),\n",
       " 'sneak': array([0, 0, 0, 0, 0, 0, 0, 0, 0, 0]),\n",
       " 'sprint': array([0, 0, 0, 0, 0, 0, 0, 0, 0, 1])}"
      ]
     },
     "execution_count": 38,
     "metadata": {},
     "output_type": "execute_result"
    }
   ],
   "source": [
    "raw_actions[0]"
   ]
  },
  {
   "cell_type": "code",
   "execution_count": 37,
   "metadata": {},
   "outputs": [
    {
     "data": {
      "text/plain": [
       "[{'attack': 0,\n",
       "  'back': 0,\n",
       "  'camera0': -1.1999998,\n",
       "  'camera1': 1.0499878,\n",
       "  'craft': 'none',\n",
       "  'equip': 'none',\n",
       "  'forward': 0,\n",
       "  'jump': 0,\n",
       "  'left': 0,\n",
       "  'nearbyCraft': 'none',\n",
       "  'nearbySmelt': 'none',\n",
       "  'place': 'none',\n",
       "  'right': 0,\n",
       "  'sneak': 0,\n",
       "  'sprint': 0},\n",
       " {'attack': 0,\n",
       "  'back': 0,\n",
       "  'camera0': -1.1999998,\n",
       "  'camera1': 1.0499878,\n",
       "  'craft': 'none',\n",
       "  'equip': 'none',\n",
       "  'forward': 0,\n",
       "  'jump': 0,\n",
       "  'left': 0,\n",
       "  'nearbyCraft': 'none',\n",
       "  'nearbySmelt': 'none',\n",
       "  'place': 'none',\n",
       "  'right': 0,\n",
       "  'sneak': 0,\n",
       "  'sprint': 0},\n",
       " {'attack': 0,\n",
       "  'back': 0,\n",
       "  'camera0': -1.1999998,\n",
       "  'camera1': 1.0499878,\n",
       "  'craft': 'none',\n",
       "  'equip': 'none',\n",
       "  'forward': 0,\n",
       "  'jump': 0,\n",
       "  'left': 0,\n",
       "  'nearbyCraft': 'none',\n",
       "  'nearbySmelt': 'none',\n",
       "  'place': 'none',\n",
       "  'right': 0,\n",
       "  'sneak': 0,\n",
       "  'sprint': 0},\n",
       " {'attack': 0,\n",
       "  'back': 0,\n",
       "  'camera0': -1.1999998,\n",
       "  'camera1': 1.0499878,\n",
       "  'craft': 'none',\n",
       "  'equip': 'none',\n",
       "  'forward': 0,\n",
       "  'jump': 0,\n",
       "  'left': 0,\n",
       "  'nearbyCraft': 'none',\n",
       "  'nearbySmelt': 'none',\n",
       "  'place': 'none',\n",
       "  'right': 0,\n",
       "  'sneak': 0,\n",
       "  'sprint': 0},\n",
       " {'attack': 0,\n",
       "  'back': 0,\n",
       "  'camera0': -1.1999998,\n",
       "  'camera1': 1.0499878,\n",
       "  'craft': 'none',\n",
       "  'equip': 'none',\n",
       "  'forward': 0,\n",
       "  'jump': 0,\n",
       "  'left': 0,\n",
       "  'nearbyCraft': 'none',\n",
       "  'nearbySmelt': 'none',\n",
       "  'place': 'none',\n",
       "  'right': 0,\n",
       "  'sneak': 0,\n",
       "  'sprint': 0},\n",
       " {'attack': 0,\n",
       "  'back': 0,\n",
       "  'camera0': -1.1999998,\n",
       "  'camera1': 1.0499878,\n",
       "  'craft': 'none',\n",
       "  'equip': 'none',\n",
       "  'forward': 0,\n",
       "  'jump': 0,\n",
       "  'left': 0,\n",
       "  'nearbyCraft': 'none',\n",
       "  'nearbySmelt': 'none',\n",
       "  'place': 'none',\n",
       "  'right': 0,\n",
       "  'sneak': 0,\n",
       "  'sprint': 0},\n",
       " {'attack': 0,\n",
       "  'back': 0,\n",
       "  'camera0': -1.1999998,\n",
       "  'camera1': 1.0499878,\n",
       "  'craft': 'none',\n",
       "  'equip': 'none',\n",
       "  'forward': 0,\n",
       "  'jump': 0,\n",
       "  'left': 0,\n",
       "  'nearbyCraft': 'none',\n",
       "  'nearbySmelt': 'none',\n",
       "  'place': 'none',\n",
       "  'right': 0,\n",
       "  'sneak': 0,\n",
       "  'sprint': 0},\n",
       " {'attack': 0,\n",
       "  'back': 0,\n",
       "  'camera0': -1.1999998,\n",
       "  'camera1': 1.0499878,\n",
       "  'craft': 'none',\n",
       "  'equip': 'none',\n",
       "  'forward': 0,\n",
       "  'jump': 0,\n",
       "  'left': 0,\n",
       "  'nearbyCraft': 'none',\n",
       "  'nearbySmelt': 'none',\n",
       "  'place': 'none',\n",
       "  'right': 0,\n",
       "  'sneak': 0,\n",
       "  'sprint': 0},\n",
       " {'attack': 0,\n",
       "  'back': 0,\n",
       "  'camera0': -1.1999998,\n",
       "  'camera1': 1.0499878,\n",
       "  'craft': 'none',\n",
       "  'equip': 'none',\n",
       "  'forward': 0,\n",
       "  'jump': 0,\n",
       "  'left': 0,\n",
       "  'nearbyCraft': 'none',\n",
       "  'nearbySmelt': 'none',\n",
       "  'place': 'none',\n",
       "  'right': 0,\n",
       "  'sneak': 0,\n",
       "  'sprint': 0},\n",
       " {'attack': 0,\n",
       "  'back': 0,\n",
       "  'camera0': -1.1999998,\n",
       "  'camera1': 1.0499878,\n",
       "  'craft': 'none',\n",
       "  'equip': 'none',\n",
       "  'forward': 0,\n",
       "  'jump': 0,\n",
       "  'left': 0,\n",
       "  'nearbyCraft': 'none',\n",
       "  'nearbySmelt': 'none',\n",
       "  'place': 'none',\n",
       "  'right': 0,\n",
       "  'sneak': 0,\n",
       "  'sprint': 0}]"
      ]
     },
     "execution_count": 37,
     "metadata": {},
     "output_type": "execute_result"
    }
   ],
   "source": [
    "decode_actions(raw_actions[0])"
   ]
  },
  {
   "cell_type": "code",
   "execution_count": 32,
   "metadata": {},
   "outputs": [
    {
     "data": {
      "text/html": [
       "<div>\n",
       "<style scoped>\n",
       "    .dataframe tbody tr th:only-of-type {\n",
       "        vertical-align: middle;\n",
       "    }\n",
       "\n",
       "    .dataframe tbody tr th {\n",
       "        vertical-align: top;\n",
       "    }\n",
       "\n",
       "    .dataframe thead th {\n",
       "        text-align: right;\n",
       "    }\n",
       "</style>\n",
       "<table border=\"1\" class=\"dataframe\">\n",
       "  <thead>\n",
       "    <tr style=\"text-align: right;\">\n",
       "      <th></th>\n",
       "      <th>attack</th>\n",
       "      <th>back</th>\n",
       "      <th>camera0</th>\n",
       "      <th>camera1</th>\n",
       "      <th>craft</th>\n",
       "      <th>equip</th>\n",
       "      <th>forward</th>\n",
       "      <th>jump</th>\n",
       "      <th>left</th>\n",
       "      <th>nearbyCraft</th>\n",
       "      <th>nearbySmelt</th>\n",
       "      <th>place</th>\n",
       "      <th>right</th>\n",
       "      <th>sneak</th>\n",
       "      <th>sprint</th>\n",
       "    </tr>\n",
       "  </thead>\n",
       "  <tbody>\n",
       "    <tr>\n",
       "      <th>0</th>\n",
       "      <td>1</td>\n",
       "      <td>0</td>\n",
       "      <td>0.0</td>\n",
       "      <td>0.0</td>\n",
       "      <td>none</td>\n",
       "      <td>none</td>\n",
       "      <td>1</td>\n",
       "      <td>0</td>\n",
       "      <td>0</td>\n",
       "      <td>none</td>\n",
       "      <td>none</td>\n",
       "      <td>none</td>\n",
       "      <td>0</td>\n",
       "      <td>0</td>\n",
       "      <td>1</td>\n",
       "    </tr>\n",
       "  </tbody>\n",
       "</table>\n",
       "</div>"
      ],
      "text/plain": [
       "   attack  back  camera0  camera1 craft equip  forward  jump  left  \\\n",
       "0       1     0      0.0      0.0  none  none        1     0     0   \n",
       "\n",
       "  nearbyCraft nearbySmelt place  right  sneak  sprint  \n",
       "0        none        none  none      0      0       1  "
      ]
     },
     "execution_count": 32,
     "metadata": {},
     "output_type": "execute_result"
    }
   ],
   "source": [
    "df.drop_duplicates()"
   ]
  },
  {
   "cell_type": "code",
   "execution_count": 11,
   "metadata": {},
   "outputs": [
    {
     "data": {
      "text/plain": [
       "{'attack': 1.0,\n",
       " 'back': 0.0,\n",
       " 'camera0': 0.0,\n",
       " 'camera1': 0.0,\n",
       " 'forward': 1.0,\n",
       " 'jump': 0.0,\n",
       " 'left': 0.0,\n",
       " 'right': 0.0,\n",
       " 'sneak': 0.0,\n",
       " 'sprint': 0.0}"
      ]
     },
     "execution_count": 11,
     "metadata": {},
     "output_type": "execute_result"
    }
   ],
   "source": [
    "df.loc[0].to_dict()\n",
    "\n",
    "NULL_ACTION = {\n",
    "    'attack': 0.0,\n",
    "    'back': 0.0,\n",
    "    'camera0': 0.0,\n",
    "    'camera1': 0.0,\n",
    "    'forward': 0.0,\n",
    "    'jump': 0.0,\n",
    "    'left': 0.0,\n",
    "    'right': 0.0,\n",
    "    'sneak': 0.0,\n",
    "    'sprint': 0.0,\n",
    "    'craft': \"None\", \n",
    "    'equip': \"None\", \n",
    "    'nearbyCraft': \"None\", \n",
    "    'nearbySmelt': \"None\", \n",
    "    'place': \"None\"}\n",
    "    "
   ]
  },
  {
   "cell_type": "code",
   "execution_count": 62,
   "metadata": {},
   "outputs": [],
   "source": [
    "mark_array=df.values"
   ]
  },
  {
   "cell_type": "code",
   "execution_count": 64,
   "metadata": {},
   "outputs": [
    {
     "data": {
      "text/plain": [
       "[4, 5, 9, 10, 11]"
      ]
     },
     "execution_count": 64,
     "metadata": {},
     "output_type": "execute_result"
    }
   ],
   "source": [
    "categorical_features_idx = [col for col in df.columns if 'camera' not in col] if BIN_AS_CAT else [4, 5, 9, 10, 11]\n",
    "categorical_features_idx"
   ]
  },
  {
   "cell_type": "code",
   "execution_count": 65,
   "metadata": {},
   "outputs": [],
   "source": [
    "kproto = KPrototypes(n_clusters=NUM_CLUSTERS, max_iter=200).fit(mark_array, categorical=categorical_features_idx)"
   ]
  },
  {
   "cell_type": "code",
   "execution_count": 10,
   "metadata": {},
   "outputs": [
    {
     "ename": "NameError",
     "evalue": "name 'kproto' is not defined",
     "output_type": "error",
     "traceback": [
      "\u001b[0;31m---------------------------------------------------------------------------\u001b[0m",
      "\u001b[0;31mNameError\u001b[0m                                 Traceback (most recent call last)",
      "\u001b[1;32m/home/ayden/dev/MineRL/src/actions/disc_actions.ipynb Cell 12\u001b[0m in \u001b[0;36m<cell line: 1>\u001b[0;34m()\u001b[0m\n\u001b[0;32m----> <a href='vscode-notebook-cell:/home/ayden/dev/MineRL/src/actions/disc_actions.ipynb#X14sZmlsZQ%3D%3D?line=0'>1</a>\u001b[0m kproto\u001b[39m.\u001b[39mcluster_centroids_\n",
      "\u001b[0;31mNameError\u001b[0m: name 'kproto' is not defined"
     ]
    }
   ],
   "source": [
    "kproto.cluster_centroids_"
   ]
  },
  {
   "cell_type": "code",
   "execution_count": 20,
   "metadata": {},
   "outputs": [],
   "source": [
    "actions_list = ['attack', 'back', 'camera0', 'camera1', \n",
    "    'forward', 'jump', 'left',  'right', 'sneak','sprint', \n",
    "    'craft', 'equip', 'nearbyCraft', 'nearbySmelt', 'place']"
   ]
  },
  {
   "cell_type": "code",
   "execution_count": 101,
   "metadata": {},
   "outputs": [],
   "source": [
    "extracted_actions = []\n",
    "for cluster in kproto.cluster_centroids_:\n",
    "    extracted_actions.append(encode_action({actions_list[i]: cluster[i] for i in range(len(cluster))}))"
   ]
  },
  {
   "cell_type": "code",
   "execution_count": 102,
   "metadata": {},
   "outputs": [
    {
     "data": {
      "text/plain": [
       "[{'attack': array(1),\n",
       "  'back': array(0),\n",
       "  'forward': array(1),\n",
       "  'jump': array(0),\n",
       "  'left': array(0),\n",
       "  'right': array(0),\n",
       "  'sneak': array(1),\n",
       "  'sprint': array(0),\n",
       "  'craft': 'none',\n",
       "  'equip': 'none',\n",
       "  'nearbyCraft': 'none',\n",
       "  'nearbySmelt': 'none',\n",
       "  'place': 'none',\n",
       "  'camera': array([-0.95094347, 13.958498  ], dtype=float32)},\n",
       " {'attack': array(1),\n",
       "  'back': array(0),\n",
       "  'forward': array(1),\n",
       "  'jump': array(0),\n",
       "  'left': array(0),\n",
       "  'right': array(0),\n",
       "  'sneak': array(1),\n",
       "  'sprint': array(0),\n",
       "  'craft': 'none',\n",
       "  'equip': 'none',\n",
       "  'nearbyCraft': 'none',\n",
       "  'nearbySmelt': 'none',\n",
       "  'place': 'none',\n",
       "  'camera': array([-0.12000012, -5.0088477 ], dtype=float32)},\n",
       " {'attack': array(1),\n",
       "  'back': array(0),\n",
       "  'forward': array(1),\n",
       "  'jump': array(0),\n",
       "  'left': array(0),\n",
       "  'right': array(0),\n",
       "  'sneak': array(1),\n",
       "  'sprint': array(0),\n",
       "  'craft': 'none',\n",
       "  'equip': 'none',\n",
       "  'nearbyCraft': 'none',\n",
       "  'nearbySmelt': 'none',\n",
       "  'place': 'none',\n",
       "  'camera': array([4.6296031e-03, 5.3157415e+00], dtype=float32)},\n",
       " {'attack': array(1),\n",
       "  'back': array(0),\n",
       "  'forward': array(1),\n",
       "  'jump': array(0),\n",
       "  'left': array(0),\n",
       "  'right': array(0),\n",
       "  'sneak': array(1),\n",
       "  'sprint': array(0),\n",
       "  'craft': 'none',\n",
       "  'equip': 'none',\n",
       "  'nearbyCraft': 'none',\n",
       "  'nearbySmelt': 'none',\n",
       "  'place': 'none',\n",
       "  'camera': array([13.677777 , -1.5444525], dtype=float32)},\n",
       " {'attack': array(1),\n",
       "  'back': array(1),\n",
       "  'forward': array(1),\n",
       "  'jump': array(0),\n",
       "  'left': array(0),\n",
       "  'right': array(0),\n",
       "  'sneak': array(1),\n",
       "  'sprint': array(0),\n",
       "  'craft': 'none',\n",
       "  'equip': 'none',\n",
       "  'nearbyCraft': 'none',\n",
       "  'nearbySmelt': 'none',\n",
       "  'place': 'none',\n",
       "  'camera': array([-0.11590898, 30.102293  ], dtype=float32)},\n",
       " {'attack': array(1),\n",
       "  'back': array(0),\n",
       "  'forward': array(0),\n",
       "  'jump': array(0),\n",
       "  'left': array(0),\n",
       "  'right': array(0),\n",
       "  'sneak': array(1),\n",
       "  'sprint': array(0),\n",
       "  'craft': 'none',\n",
       "  'equip': 'none',\n",
       "  'nearbyCraft': 'none',\n",
       "  'nearbySmelt': 'none',\n",
       "  'place': 'none',\n",
       "  'camera': array([ -0.10909066, -14.419086  ], dtype=float32)},\n",
       " {'attack': array(1),\n",
       "  'back': array(0),\n",
       "  'forward': array(1),\n",
       "  'jump': array(0),\n",
       "  'left': array(0),\n",
       "  'right': array(0),\n",
       "  'sneak': array(1),\n",
       "  'sprint': array(0),\n",
       "  'craft': 'none',\n",
       "  'equip': 'none',\n",
       "  'nearbyCraft': 'none',\n",
       "  'nearbySmelt': 'none',\n",
       "  'place': 'none',\n",
       "  'camera': array([-4.358183  ,  0.48272878], dtype=float32)},\n",
       " {'attack': array(1),\n",
       "  'back': array(0),\n",
       "  'forward': array(0),\n",
       "  'jump': array(0),\n",
       "  'left': array(0),\n",
       "  'right': array(0),\n",
       "  'sneak': array(1),\n",
       "  'sprint': array(0),\n",
       "  'craft': 'none',\n",
       "  'equip': 'none',\n",
       "  'nearbyCraft': 'none',\n",
       "  'nearbySmelt': 'none',\n",
       "  'place': 'none',\n",
       "  'camera': array([-11.854412,  -1.588236], dtype=float32)},\n",
       " {'attack': array(1),\n",
       "  'back': array(0),\n",
       "  'forward': array(1),\n",
       "  'jump': array(0),\n",
       "  'left': array(0),\n",
       "  'right': array(0),\n",
       "  'sneak': array(1),\n",
       "  'sprint': array(0),\n",
       "  'craft': 'none',\n",
       "  'equip': 'none',\n",
       "  'nearbyCraft': 'none',\n",
       "  'nearbySmelt': 'none',\n",
       "  'place': 'none',\n",
       "  'camera': array([ 4.1244    , -0.01200275], dtype=float32)},\n",
       " {'attack': array(1),\n",
       "  'back': array(0),\n",
       "  'forward': array(1),\n",
       "  'jump': array(0),\n",
       "  'left': array(0),\n",
       "  'right': array(0),\n",
       "  'sneak': array(1),\n",
       "  'sprint': array(0),\n",
       "  'craft': 'none',\n",
       "  'equip': 'none',\n",
       "  'nearbyCraft': 'none',\n",
       "  'nearbySmelt': 'none',\n",
       "  'place': 'none',\n",
       "  'camera': array([0.0160639 , 0.00468504], dtype=float32)},\n",
       " {'attack': array(1),\n",
       "  'back': array(0),\n",
       "  'forward': array(1),\n",
       "  'jump': array(0),\n",
       "  'left': array(0),\n",
       "  'right': array(0),\n",
       "  'sneak': array(0),\n",
       "  'sprint': array(0),\n",
       "  'craft': 'none',\n",
       "  'equip': 'none',\n",
       "  'nearbyCraft': 'none',\n",
       "  'nearbySmelt': 'none',\n",
       "  'place': 'none',\n",
       "  'camera': array([25.833334, 11.616645], dtype=float32)},\n",
       " {'attack': array(1),\n",
       "  'back': array(0),\n",
       "  'forward': array(1),\n",
       "  'jump': array(0),\n",
       "  'left': array(1),\n",
       "  'right': array(0),\n",
       "  'sneak': array(0),\n",
       "  'sprint': array(0),\n",
       "  'craft': 'none',\n",
       "  'equip': 'none',\n",
       "  'nearbyCraft': 'none',\n",
       "  'nearbySmelt': 'none',\n",
       "  'place': 'none',\n",
       "  'camera': array([ -6.5399995, -32.11002  ], dtype=float32)}]"
      ]
     },
     "execution_count": 102,
     "metadata": {},
     "output_type": "execute_result"
    }
   ],
   "source": [
    "extracted_actions"
   ]
  },
  {
   "cell_type": "markdown",
   "metadata": {},
   "source": [
    "### Test on ENV"
   ]
  },
  {
   "cell_type": "code",
   "execution_count": 40,
   "metadata": {},
   "outputs": [],
   "source": [
    "import pickle\n",
    "\n",
    "with open(\"all-actions.pickle\", 'wb') as f:\n",
    "    pickle.dump(extracted_actions, f)\n"
   ]
  },
  {
   "cell_type": "code",
   "execution_count": 46,
   "metadata": {},
   "outputs": [],
   "source": [
    "with open(\"all-actions.pickle\", 'rb') as f:\n",
    "    d = pickle.load(f)"
   ]
  },
  {
   "cell_type": "code",
   "execution_count": 51,
   "metadata": {},
   "outputs": [
    {
     "data": {
      "text/plain": [
       "[{'attack': array(1),\n",
       "  'back': array(0),\n",
       "  'forward': array(0),\n",
       "  'jump': array(0),\n",
       "  'left': array(0),\n",
       "  'right': array(0),\n",
       "  'sneak': array(0),\n",
       "  'sprint': array(0),\n",
       "  'craft': 'none',\n",
       "  'equip': 'none',\n",
       "  'nearbyCraft': 'none',\n",
       "  'nearbySmelt': 'none',\n",
       "  'place': 'none',\n",
       "  'camera': array([0.02658768, 0.02658768], dtype=float32)},\n",
       " {'attack': array(0),\n",
       "  'back': array(0),\n",
       "  'forward': array(0),\n",
       "  'jump': array(0),\n",
       "  'left': array(0),\n",
       "  'right': array(0),\n",
       "  'sneak': array(0),\n",
       "  'sprint': array(0),\n",
       "  'craft': 'none',\n",
       "  'equip': 'none',\n",
       "  'nearbyCraft': 'none',\n",
       "  'nearbySmelt': 'none',\n",
       "  'place': 'none',\n",
       "  'camera': array([-0.8462825, -0.8462825], dtype=float32)},\n",
       " {'attack': array(0),\n",
       "  'back': array(0),\n",
       "  'forward': array(0),\n",
       "  'jump': array(0),\n",
       "  'left': array(0),\n",
       "  'right': array(0),\n",
       "  'sneak': array(0),\n",
       "  'sprint': array(0),\n",
       "  'craft': 'none',\n",
       "  'equip': 'none',\n",
       "  'nearbyCraft': 'none',\n",
       "  'nearbySmelt': 'none',\n",
       "  'place': 'none',\n",
       "  'camera': array([2.4302227, 2.4302227], dtype=float32)},\n",
       " {'attack': array(0),\n",
       "  'back': array(0),\n",
       "  'forward': array(0),\n",
       "  'jump': array(0),\n",
       "  'left': array(0),\n",
       "  'right': array(0),\n",
       "  'sneak': array(0),\n",
       "  'sprint': array(0),\n",
       "  'craft': 'none',\n",
       "  'equip': 'none',\n",
       "  'nearbyCraft': 'none',\n",
       "  'nearbySmelt': 'none',\n",
       "  'place': 'none',\n",
       "  'camera': array([-0.20018978, -0.20018978], dtype=float32)},\n",
       " {'attack': array(0),\n",
       "  'back': array(0),\n",
       "  'forward': array(0),\n",
       "  'jump': array(0),\n",
       "  'left': array(0),\n",
       "  'right': array(0),\n",
       "  'sneak': array(0),\n",
       "  'sprint': array(0),\n",
       "  'craft': 'none',\n",
       "  'equip': 'none',\n",
       "  'nearbyCraft': 'none',\n",
       "  'nearbySmelt': 'none',\n",
       "  'place': 'none',\n",
       "  'camera': array([11.242951, 11.242951], dtype=float32)},\n",
       " {'attack': array(0),\n",
       "  'back': array(0),\n",
       "  'forward': array(0),\n",
       "  'jump': array(0),\n",
       "  'left': array(0),\n",
       "  'right': array(0),\n",
       "  'sneak': array(0),\n",
       "  'sprint': array(0),\n",
       "  'craft': 'none',\n",
       "  'equip': 'none',\n",
       "  'nearbyCraft': 'none',\n",
       "  'nearbySmelt': 'none',\n",
       "  'place': 'none',\n",
       "  'camera': array([-9.476716, -9.476716], dtype=float32)}]"
      ]
     },
     "execution_count": 51,
     "metadata": {},
     "output_type": "execute_result"
    }
   ],
   "source": [
    "d"
   ]
  },
  {
   "cell_type": "code",
   "execution_count": 52,
   "metadata": {},
   "outputs": [
    {
     "data": {
      "text/plain": [
       "6"
      ]
     },
     "execution_count": 52,
     "metadata": {},
     "output_type": "execute_result"
    }
   ],
   "source": [
    "len(extracted_actions)"
   ]
  },
  {
   "cell_type": "code",
   "execution_count": 59,
   "metadata": {},
   "outputs": [
    {
     "name": "stdout",
     "output_type": "stream",
     "text": [
      "Merging actions from the following files: Treechop.pickle, Navigate.pickle, ObtainIronPickaxe.pickle, ObtainDiamond\n"
     ]
    }
   ],
   "source": [
    "import pickle\n",
    "StringBuilder = lambda ENV_STRING: (f'MineRL{ENV_STRING}-v0', f'{str(Path().absolute())}/actions-{ENV_STRING}.pickle')\n",
    "action_strings = [\"Treechop\", \"Navigate\", \"ObtainIronPickaxe\", \"ObtainDiamond\"]\n",
    "print(f\"Merging actions from the following files: {'.pickle, '.join(action_strings)}\")\n",
    "actions = {}\n",
    "for action_string in action_strings:\n",
    "    _, save_path = StringBuilder(action_string)\n",
    "    \n",
    "    with open(save_path, 'rb') as f:\n",
    "        action_set = pickle.load(f)\n",
    "        actions[action_string] = action_set\n",
    "\n",
    "    # actions.extend(action_set)"
   ]
  },
  {
   "cell_type": "code",
   "execution_count": 61,
   "metadata": {},
   "outputs": [
    {
     "data": {
      "text/plain": [
       "dict_keys(['Treechop', 'Navigate', 'ObtainIronPickaxe', 'ObtainDiamond'])"
      ]
     },
     "execution_count": 61,
     "metadata": {},
     "output_type": "execute_result"
    }
   ],
   "source": [
    "actions.keys()\n"
   ]
  },
  {
   "cell_type": "code",
   "execution_count": 63,
   "metadata": {},
   "outputs": [
    {
     "data": {
      "text/plain": [
       "12"
      ]
     },
     "execution_count": 63,
     "metadata": {},
     "output_type": "execute_result"
    }
   ],
   "source": [
    "len(actions['Navigate'])"
   ]
  },
  {
   "cell_type": "code",
   "execution_count": 64,
   "metadata": {},
   "outputs": [
    {
     "data": {
      "text/plain": [
       "1"
      ]
     },
     "execution_count": 64,
     "metadata": {},
     "output_type": "execute_result"
    }
   ],
   "source": [
    "len(actions['ObtainIronPickaxe'])"
   ]
  }
 ],
 "metadata": {
  "kernelspec": {
   "display_name": "Python 3.8.13 ('minerl_env')",
   "language": "python",
   "name": "python3"
  },
  "language_info": {
   "codemirror_mode": {
    "name": "ipython",
    "version": 3
   },
   "file_extension": ".py",
   "mimetype": "text/x-python",
   "name": "python",
   "nbconvert_exporter": "python",
   "pygments_lexer": "ipython3",
   "version": "3.8.13"
  },
  "orig_nbformat": 4,
  "vscode": {
   "interpreter": {
    "hash": "1597f18fa23d689a2ce527e3a7c2d19debb19095095a961a777760a4888669d1"
   }
  }
 },
 "nbformat": 4,
 "nbformat_minor": 2
}
