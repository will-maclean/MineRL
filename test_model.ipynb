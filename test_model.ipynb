{
 "cells": [
  {
   "cell_type": "code",
   "execution_count": 2,
   "metadata": {},
   "outputs": [
    {
     "name": "stderr",
     "output_type": "stream",
     "text": [
      "/home/ayden/miniconda3/envs/minerl_env/lib/python3.8/site-packages/gym/logger.py:34: UserWarning: \u001b[33mWARN: Box bound precision lowered by casting to float32\u001b[0m\n",
      "  warnings.warn(colorize(\"%s: %s\" % (\"WARN\", msg % args), \"yellow\"))\n"
     ]
    }
   ],
   "source": [
    "import torch as th\n",
    "from torch import nn\n",
    "import numpy as np\n",
    "import gym\n",
    "import minerl\n",
    "\n",
    "from src.minerl3161.hyperparameters import DQNHyperparameters\n",
    "from src.minerl3161.models import DQNNet\n",
    "from src.minerl3161.utils import np_dict_to_pt, sample_pt_state\n",
    "from src.minerl3161.wrappers import mineRLObservationSpaceWrapper, MineRLDiscreteActionWrapper\n"
   ]
  },
  {
   "cell_type": "code",
   "execution_count": 1,
   "metadata": {},
   "outputs": [],
   "source": [
    "import numpy as np\n",
    "import pandas as pd\n",
    "from kmodes.kprototypes import KPrototypes"
   ]
  },
  {
   "cell_type": "code",
   "execution_count": 3,
   "metadata": {},
   "outputs": [],
   "source": [
    "env = gym.make(\"MineRLObtainDiamond-v0\")\n",
    "# hp = DQNHyperparameters()"
   ]
  },
  {
   "cell_type": "code",
   "execution_count": 4,
   "metadata": {},
   "outputs": [
    {
     "data": {
      "text/plain": [
       "OrderedDict([('attack', array(0)),\n",
       "             ('back', array(0)),\n",
       "             ('camera', array([ -82.908585, -146.40172 ], dtype=float32)),\n",
       "             ('craft', 'torch'),\n",
       "             ('equip', 'wooden_axe'),\n",
       "             ('forward', array(0)),\n",
       "             ('jump', array(1)),\n",
       "             ('left', array(1)),\n",
       "             ('nearbyCraft', 'wooden_axe'),\n",
       "             ('nearbySmelt', 'none'),\n",
       "             ('place', 'none'),\n",
       "             ('right', array(1)),\n",
       "             ('sneak', array(1)),\n",
       "             ('sprint', array(1))])"
      ]
     },
     "execution_count": 4,
     "metadata": {},
     "output_type": "execute_result"
    }
   ],
   "source": [
    "env.action_space.sample()"
   ]
  },
  {
   "cell_type": "code",
   "execution_count": 3,
   "metadata": {},
   "outputs": [],
   "source": [
    "action_agent = MineRLDiscreteActionWrapper(env)"
   ]
  },
  {
   "cell_type": "code",
   "execution_count": 5,
   "metadata": {},
   "outputs": [
    {
     "name": "stderr",
     "output_type": "stream",
     "text": [
      "Failed to take a step (error a bytes-like object is required, not 'NoneType'). Terminating episode and sending random observation, be aware. To account for this failure case in your code check to see if `'error' in info` where info is the info dictionary returned by the step function.\n"
     ]
    }
   ],
   "source": [
    "done = False\n",
    "obs = env.reset()\n",
    "\n",
    "i =  0\n",
    "CURR_ACTION = 1\n",
    "\n",
    "while not done:\n",
    "    if i % 10 == 0:\n",
    "        CURR_ACTION = action_agent.action_space.sample()\n",
    "    \n",
    "    action = action_agent.action(CURR_ACTION)\n",
    "    obs, reward, done, info = env.step(action)\n",
    "    i += 1"
   ]
  },
  {
   "cell_type": "code",
   "execution_count": 2,
   "metadata": {},
   "outputs": [],
   "source": [
    "unwrapped_env = gym.make(\"MineRLObtainDiamondShovel-v0\")\n"
   ]
  },
  {
   "cell_type": "code",
   "execution_count": 7,
   "metadata": {},
   "outputs": [],
   "source": [
    "# real observation space\n",
    "w = 16\n",
    "h = 16\n",
    "features = ['pov', 'stone_sword', 'stonecutter', 'stone_shovel']\n",
    "stack = 4\n",
    "n_actions = 8\n",
    "device=\"cpu\"\n",
    "layer_size = 8\n",
    "\n",
    "env = mineRLObservationSpaceWrapper(unwrapped_env, frame=stack, features=features, downsize_width=w, downsize_height=h)\n",
    "\n",
    "obs_space = env.observation_space"
   ]
  },
  {
   "cell_type": "code",
   "execution_count": 8,
   "metadata": {},
   "outputs": [],
   "source": [
    "net = DQNNet(obs_space, n_actions, layer_size=layer_size).to(device)"
   ]
  },
  {
   "cell_type": "code",
   "execution_count": 9,
   "metadata": {},
   "outputs": [],
   "source": [
    "\n",
    "\n",
    "optim = th.optim.Adam(lr=0.01, params=net.parameters())\n",
    "\n",
    "sample_input = sample_pt_state(obs_space, obs_space.spaces.keys(), batch=1)\n",
    "sample_output = th.rand((1, n_actions))\n",
    "\n",
    "nn_output = net(sample_input)\n",
    "\n",
    "loss = nn.functional.mse_loss(nn_output, sample_output)\n",
    "\n",
    "optim.zero_grad()\n",
    "loss.backward()\n",
    "optim.step()"
   ]
  },
  {
   "cell_type": "code",
   "execution_count": 16,
   "metadata": {},
   "outputs": [
    {
     "data": {
      "text/plain": [
       "tensor([[0.4081, 1.0331, 0.8548, 0.6891, 1.1998, 1.2111, 1.2101, 0.8098]],\n",
       "       grad_fn=<AddBackward0>)"
      ]
     },
     "execution_count": 16,
     "metadata": {},
     "output_type": "execute_result"
    }
   ],
   "source": [
    "net(sample_input)"
   ]
  },
  {
   "cell_type": "code",
   "execution_count": null,
   "metadata": {},
   "outputs": [],
   "source": []
  }
 ],
 "metadata": {
  "kernelspec": {
   "display_name": "Python 3.8.13 ('minerl_env')",
   "language": "python",
   "name": "python3"
  },
  "language_info": {
   "codemirror_mode": {
    "name": "ipython",
    "version": 3
   },
   "file_extension": ".py",
   "mimetype": "text/x-python",
   "name": "python",
   "nbconvert_exporter": "python",
   "pygments_lexer": "ipython3",
   "version": "3.8.13"
  },
  "orig_nbformat": 4,
  "vscode": {
   "interpreter": {
    "hash": "1597f18fa23d689a2ce527e3a7c2d19debb19095095a961a777760a4888669d1"
   }
  }
 },
 "nbformat": 4,
 "nbformat_minor": 2
}
